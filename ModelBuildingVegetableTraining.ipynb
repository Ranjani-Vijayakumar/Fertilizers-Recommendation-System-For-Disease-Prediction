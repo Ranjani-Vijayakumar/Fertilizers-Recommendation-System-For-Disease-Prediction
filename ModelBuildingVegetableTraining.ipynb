{
 "cells": [
  {
   "cell_type": "markdown",
   "id": "c3fabfd9",
   "metadata": {},
   "source": [
    "# Preprocessing"
   ]
  },
  {
   "cell_type": "code",
   "execution_count": 1,
   "id": "0b60fbd3",
   "metadata": {},
   "outputs": [],
   "source": [
    "from keras.preprocessing.image import ImageDataGenerator\n",
    "train_datagen = ImageDataGenerator(rescale=1./255,shear_range=0.2,zoom_range=0.2,horizontal_flip=True)\n",
    "test_datagen = ImageDataGenerator(rescale=1)"
   ]
  },
  {
   "cell_type": "code",
   "execution_count": 2,
   "id": "e1756165",
   "metadata": {},
   "outputs": [
    {
     "name": "stdout",
     "output_type": "stream",
     "text": [
      "Found 11386 images belonging to 9 classes.\n"
     ]
    }
   ],
   "source": [
    "x_train = train_datagen.flow_from_directory(r'C:/Users/RAJU/OneDrive/Desktop/Sathiya/IBM/Dataset Plant Disease/veg-dataset/veg-dataset/train_set',target_size=(128,128),\n",
    "                                            batch_size=16,class_mode='categorical')\n"
   ]
  },
  {
   "cell_type": "code",
   "execution_count": 3,
   "id": "0f85afd9",
   "metadata": {},
   "outputs": [
    {
     "name": "stdout",
     "output_type": "stream",
     "text": [
      "Found 3416 images belonging to 9 classes.\n"
     ]
    }
   ],
   "source": [
    "x_test=test_datagen.flow_from_directory(r'C:/Users/RAJU/OneDrive/Desktop/Sathiya/IBM/Dataset Plant Disease/veg-dataset/veg-dataset/test_set',target_size=(128,128),\n",
    "                                          batch_size=16,class_mode='categorical')"
   ]
  },
  {
   "cell_type": "markdown",
   "id": "971b6db9",
   "metadata": {},
   "source": [
    "# Import the models"
   ]
  },
  {
   "cell_type": "code",
   "execution_count": 4,
   "id": "f2ab6d48",
   "metadata": {},
   "outputs": [],
   "source": [
    "from tensorflow.keras.models import Sequential\n",
    "from tensorflow.keras.layers import Dense,Convolution2D,MaxPool2D,Flatten"
   ]
  },
  {
   "cell_type": "markdown",
   "id": "f243e4fc",
   "metadata": {},
   "source": [
    "# Initializing the models"
   ]
  },
  {
   "cell_type": "code",
   "execution_count": 5,
   "id": "67bf03a0",
   "metadata": {},
   "outputs": [],
   "source": [
    "model=Sequential()"
   ]
  },
  {
   "cell_type": "markdown",
   "id": "c1ce2094",
   "metadata": {},
   "source": [
    "# Add CNN Layers"
   ]
  },
  {
   "cell_type": "code",
   "execution_count": 6,
   "id": "040fa71d",
   "metadata": {},
   "outputs": [],
   "source": [
    "model.add(Convolution2D(32,(3,3),input_shape=(128,128,3),activation='relu'))"
   ]
  },
  {
   "cell_type": "code",
   "execution_count": 7,
   "id": "dcff6088",
   "metadata": {},
   "outputs": [
    {
     "data": {
      "text/plain": [
       "{'Pepper,_bell___Bacterial_spot': 0,\n",
       " 'Pepper,_bell___healthy': 1,\n",
       " 'Potato___Early_blight': 2,\n",
       " 'Potato___Late_blight': 3,\n",
       " 'Potato___healthy': 4,\n",
       " 'Tomato___Bacterial_spot': 5,\n",
       " 'Tomato___Late_blight': 6,\n",
       " 'Tomato___Leaf_Mold': 7,\n",
       " 'Tomato___Septoria_leaf_spot': 8}"
      ]
     },
     "execution_count": 7,
     "metadata": {},
     "output_type": "execute_result"
    }
   ],
   "source": [
    "x_train.class_indices"
   ]
  },
  {
   "cell_type": "markdown",
   "id": "b665c409",
   "metadata": {},
   "source": [
    "# Add Pooling layer"
   ]
  },
  {
   "cell_type": "code",
   "execution_count": 8,
   "id": "8a65e464",
   "metadata": {},
   "outputs": [],
   "source": [
    "model.add(MaxPool2D(pool_size=(2,2)))"
   ]
  },
  {
   "cell_type": "markdown",
   "id": "7ae9ec8f",
   "metadata": {},
   "source": [
    "# Add Flatten layer"
   ]
  },
  {
   "cell_type": "code",
   "execution_count": 9,
   "id": "e2b290c9",
   "metadata": {},
   "outputs": [],
   "source": [
    "model.add(Flatten())"
   ]
  },
  {
   "cell_type": "markdown",
   "id": "4de011dc",
   "metadata": {},
   "source": [
    "# Add Dense Layer"
   ]
  },
  {
   "cell_type": "code",
   "execution_count": 10,
   "id": "9b5e8805",
   "metadata": {},
   "outputs": [],
   "source": [
    "model.add(Dense(300, kernel_initializer='uniform',activation='relu'))\n",
    "model.add(Dense(150, kernel_initializer='uniform',activation='relu'))\n",
    "model.add(Dense(75, kernel_initializer='uniform',activation='relu'))"
   ]
  },
  {
   "cell_type": "markdown",
   "id": "782e810a",
   "metadata": {},
   "source": [
    "# Add Output Layer"
   ]
  },
  {
   "cell_type": "code",
   "execution_count": 11,
   "id": "5cdca73c",
   "metadata": {},
   "outputs": [],
   "source": [
    "model.add(Dense(9,activation='softmax', kernel_initializer='uniform'))"
   ]
  },
  {
   "cell_type": "markdown",
   "id": "b19e91a4",
   "metadata": {},
   "source": [
    "# Compile the model"
   ]
  },
  {
   "cell_type": "code",
   "execution_count": 12,
   "id": "d14113ab",
   "metadata": {},
   "outputs": [],
   "source": [
    "model.compile(loss='categorical_crossentropy',optimizer='adam',metrics=['accuracy'])"
   ]
  },
  {
   "cell_type": "code",
   "execution_count": 13,
   "id": "f5d410e2",
   "metadata": {},
   "outputs": [
    {
     "data": {
      "text/plain": [
       "712"
      ]
     },
     "execution_count": 13,
     "metadata": {},
     "output_type": "execute_result"
    }
   ],
   "source": [
    "len(x_train)"
   ]
  },
  {
   "cell_type": "code",
   "execution_count": 14,
   "id": "1928190f",
   "metadata": {},
   "outputs": [
    {
     "data": {
      "text/plain": [
       "711.625"
      ]
     },
     "execution_count": 14,
     "metadata": {},
     "output_type": "execute_result"
    }
   ],
   "source": [
    "11386/16"
   ]
  },
  {
   "cell_type": "markdown",
   "id": "97cb61ca",
   "metadata": {},
   "source": [
    "# Fit the Model"
   ]
  },
  {
   "cell_type": "code",
   "execution_count": 15,
   "id": "a33637a6",
   "metadata": {},
   "outputs": [
    {
     "name": "stderr",
     "output_type": "stream",
     "text": [
      "C:\\Users\\Dharun Aditya K\\AppData\\Local\\Temp\\ipykernel_20648\\2688753545.py:1: UserWarning: `Model.fit_generator` is deprecated and will be removed in a future version. Please use `Model.fit`, which supports generators.\n",
      "  model.fit_generator(x_train,steps_per_epoch=89,validation_data=x_test,validation_steps=27,epochs=20)\n"
     ]
    },
    {
     "name": "stdout",
     "output_type": "stream",
     "text": [
      "Epoch 1/20\n",
      "89/89 [==============================] - 43s 465ms/step - loss: 2.0422 - accuracy: 0.2156 - val_loss: 226.1112 - val_accuracy: 0.2940\n",
      "Epoch 2/20\n",
      "89/89 [==============================] - 40s 446ms/step - loss: 1.7085 - accuracy: 0.3329 - val_loss: 152.6753 - val_accuracy: 0.4051\n",
      "Epoch 3/20\n",
      "89/89 [==============================] - 39s 442ms/step - loss: 1.4944 - accuracy: 0.4663 - val_loss: 221.0887 - val_accuracy: 0.3079\n",
      "Epoch 4/20\n",
      "89/89 [==============================] - 40s 449ms/step - loss: 1.2791 - accuracy: 0.5204 - val_loss: 302.2166 - val_accuracy: 0.3009\n",
      "Epoch 5/20\n",
      "89/89 [==============================] - 39s 439ms/step - loss: 1.1323 - accuracy: 0.5934 - val_loss: 432.8547 - val_accuracy: 0.3519\n",
      "Epoch 6/20\n",
      "89/89 [==============================] - 39s 434ms/step - loss: 1.1215 - accuracy: 0.5913 - val_loss: 892.8468 - val_accuracy: 0.3380\n",
      "Epoch 7/20\n",
      "89/89 [==============================] - 39s 436ms/step - loss: 1.0075 - accuracy: 0.6313 - val_loss: 895.5345 - val_accuracy: 0.3194\n",
      "Epoch 8/20\n",
      "89/89 [==============================] - 38s 431ms/step - loss: 0.8876 - accuracy: 0.6889 - val_loss: 1157.1027 - val_accuracy: 0.3380\n",
      "Epoch 9/20\n",
      "89/89 [==============================] - 38s 432ms/step - loss: 0.8518 - accuracy: 0.6931 - val_loss: 719.5433 - val_accuracy: 0.3194\n",
      "Epoch 10/20\n",
      "89/89 [==============================] - 39s 436ms/step - loss: 0.8225 - accuracy: 0.7058 - val_loss: 829.7587 - val_accuracy: 0.2708\n",
      "Epoch 11/20\n",
      "89/89 [==============================] - 40s 453ms/step - loss: 0.8272 - accuracy: 0.6952 - val_loss: 1105.3971 - val_accuracy: 0.3333\n",
      "Epoch 12/20\n",
      "89/89 [==============================] - 39s 438ms/step - loss: 0.7440 - accuracy: 0.7388 - val_loss: 726.0014 - val_accuracy: 0.3495\n",
      "Epoch 13/20\n",
      "89/89 [==============================] - 39s 436ms/step - loss: 0.7310 - accuracy: 0.7423 - val_loss: 1177.0087 - val_accuracy: 0.3356\n",
      "Epoch 14/20\n",
      "89/89 [==============================] - 38s 430ms/step - loss: 0.6615 - accuracy: 0.7570 - val_loss: 919.6461 - val_accuracy: 0.3241\n",
      "Epoch 15/20\n",
      "89/89 [==============================] - 38s 427ms/step - loss: 0.6548 - accuracy: 0.7697 - val_loss: 795.2108 - val_accuracy: 0.3611\n",
      "Epoch 16/20\n",
      "89/89 [==============================] - 38s 422ms/step - loss: 0.5848 - accuracy: 0.7774 - val_loss: 1435.8348 - val_accuracy: 0.2917\n",
      "Epoch 17/20\n",
      "89/89 [==============================] - 38s 424ms/step - loss: 0.5827 - accuracy: 0.7928 - val_loss: 1240.8917 - val_accuracy: 0.3588\n",
      "Epoch 18/20\n",
      "89/89 [==============================] - 38s 423ms/step - loss: 0.6040 - accuracy: 0.7870 - val_loss: 1223.4297 - val_accuracy: 0.2801\n",
      "Epoch 19/20\n",
      "89/89 [==============================] - 38s 422ms/step - loss: 0.5719 - accuracy: 0.7914 - val_loss: 1361.5143 - val_accuracy: 0.3125\n",
      "Epoch 20/20\n",
      "89/89 [==============================] - 39s 434ms/step - loss: 0.5104 - accuracy: 0.8237 - val_loss: 1369.2075 - val_accuracy: 0.2986\n"
     ]
    },
    {
     "data": {
      "text/plain": [
       "<keras.callbacks.History at 0x2bbc2c06af0>"
      ]
     },
     "execution_count": 15,
     "metadata": {},
     "output_type": "execute_result"
    }
   ],
   "source": [
    "model.fit_generator(x_train,steps_per_epoch=89,validation_data=x_test,validation_steps=27,epochs=20)"
   ]
  },
  {
   "cell_type": "markdown",
   "id": "1ab58274",
   "metadata": {},
   "source": [
    "# Save the Model"
   ]
  },
  {
   "cell_type": "code",
   "execution_count": 16,
   "id": "0c0c814e",
   "metadata": {},
   "outputs": [],
   "source": [
    "model.save(\"vegetable.h5\")"
   ]
  },
  {
   "cell_type": "code",
   "execution_count": 17,
   "id": "aa386722",
   "metadata": {},
   "outputs": [
    {
     "name": "stdout",
     "output_type": "stream",
     "text": [
      " Volume in drive C is OS\n",
      " Volume Serial Number is 3285-82CC\n",
      "\n",
      " Directory of C:\\Users\\Dharun Aditya K\\Desktop\\IBM\\Naveen\\Jupiter\n",
      "\n",
      "14-11-2022  10:59    <DIR>          .\n",
      "14-11-2022  10:59    <DIR>          ..\n",
      "14-11-2022  10:35    <DIR>          .ipynb_checkpoints\n",
      "06-04-2022  14:27    <DIR>          Dataset Plant Disease\n",
      "14-11-2022  10:31        61,030,792 fruit.h5\n",
      "14-11-2022  09:57             1,953 FruitPreprocessing.ipynb\n",
      "14-11-2022  10:27            16,606 Fruit-Training.ipynb\n",
      "12-11-2022  13:56            16,606 Fruit-Training-Copy1.ipynb\n",
      "14-11-2022  10:34            10,823 ModelBuildingFruitTraining.ipynb\n",
      "14-11-2022  10:59            10,871 ModelBuildingVegetableTraining.ipynb\n",
      "14-11-2022  10:59       457,981,032 vegetable.h5\n",
      "14-11-2022  10:02             1,977 VegetablePreprocessing.ipynb\n",
      "14-11-2022  10:48            24,262 Vegetable-Training.ipynb\n",
      "               9 File(s)    519,094,922 bytes\n",
      "               4 Dir(s)  101,542,875,136 bytes free\n"
     ]
    }
   ],
   "source": [
    "ls"
   ]
  },
  {
   "cell_type": "code",
   "execution_count": 18,
   "id": "3517af56",
   "metadata": {},
   "outputs": [
    {
     "name": "stdout",
     "output_type": "stream",
     "text": [
      "Model: \"sequential\"\n",
      "_________________________________________________________________\n",
      " Layer (type)                Output Shape              Param #   \n",
      "=================================================================\n",
      " conv2d (Conv2D)             (None, 126, 126, 32)      896       \n",
      "                                                                 \n",
      " max_pooling2d (MaxPooling2D  (None, 63, 63, 32)       0         \n",
      " )                                                               \n",
      "                                                                 \n",
      " flatten (Flatten)           (None, 127008)            0         \n",
      "                                                                 \n",
      " dense (Dense)               (None, 300)               38102700  \n",
      "                                                                 \n",
      " dense_1 (Dense)             (None, 150)               45150     \n",
      "                                                                 \n",
      " dense_2 (Dense)             (None, 75)                11325     \n",
      "                                                                 \n",
      " dense_3 (Dense)             (None, 9)                 684       \n",
      "                                                                 \n",
      "=================================================================\n",
      "Total params: 38,160,755\n",
      "Trainable params: 38,160,755\n",
      "Non-trainable params: 0\n",
      "_________________________________________________________________\n"
     ]
    }
   ],
   "source": [
    "model.summary()"
   ]
  }
 ],
 "metadata": {
  "kernelspec": {
   "display_name": "Python 3 (ipykernel)",
   "language": "python",
   "name": "python3"
  },
  "language_info": {
   "codemirror_mode": {
    "name": "ipython",
    "version": 3
   },
   "file_extension": ".py",
   "mimetype": "text/x-python",
   "name": "python",
   "nbconvert_exporter": "python",
   "pygments_lexer": "ipython3",
   "version": "3.9.12"
  }
 },
 "nbformat": 4,
 "nbformat_minor": 5
}
