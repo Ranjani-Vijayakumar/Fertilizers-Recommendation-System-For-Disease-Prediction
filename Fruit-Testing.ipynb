{
 "cells": [
  {
   "cell_type": "markdown",
   "id": "3fdad7cc",
   "metadata": {},
   "source": [
    "# Preprocessing"
   ]
  },
  {
   "cell_type": "code",
   "execution_count": 1,
   "id": "6f8ef720",
   "metadata": {},
   "outputs": [],
   "source": [
    "from keras.preprocessing.image import ImageDataGenerator\n",
    "train_datagen = ImageDataGenerator(rescale=1./255,shear_range=0.2,zoom_range=0.2,horizontal_flip=True)\n",
    "test_datagen = ImageDataGenerator(rescale=1)"
   ]
  },
  {
   "cell_type": "code",
   "execution_count": 2,
   "id": "929f900d",
   "metadata": {},
   "outputs": [
    {
     "name": "stdout",
     "output_type": "stream",
     "text": [
      "Found 5384 images belonging to 6 classes.\n"
     ]
    }
   ],
   "source": [
    "x_train = train_datagen.flow_from_directory(r'C:/Users/RAJU/OneDrive/Desktop/Sathiya/IBM/Dataset Plant Disease/fruit-dataset/fruit-dataset/train',target_size=(128,128),batch_size=32,class_mode='categorical')\n"
   ]
  },
  {
   "cell_type": "code",
   "execution_count": 3,
   "id": "8cdd74c2",
   "metadata": {},
   "outputs": [
    {
     "name": "stdout",
     "output_type": "stream",
     "text": [
      "Found 1686 images belonging to 6 classes.\n"
     ]
    }
   ],
   "source": [
    "x_test=test_datagen.flow_from_directory(r'C:/Users/RAJU/OneDrive/Desktop/Sathiya/IBM/Dataset Plant Disease/fruit-dataset/fruit-dataset/test',target_size=(128,128),\n",
    "                                          batch_size=32,class_mode='categorical')"
   ]
  },
  {
   "cell_type": "markdown",
   "id": "2e2c175d",
   "metadata": {},
   "source": [
    "# Import the models"
   ]
  },
  {
   "cell_type": "code",
   "execution_count": 4,
   "id": "3c4043b4",
   "metadata": {},
   "outputs": [],
   "source": [
    "from tensorflow.keras.models import Sequential\n",
    "from tensorflow.keras.layers import Dense,Convolution2D,MaxPool2D,Flatten"
   ]
  },
  {
   "cell_type": "markdown",
   "id": "541ddea4",
   "metadata": {},
   "source": [
    "# Initializing the models"
   ]
  },
  {
   "cell_type": "code",
   "execution_count": 13,
   "id": "194155f1",
   "metadata": {},
   "outputs": [],
   "source": [
    "model=Sequential()"
   ]
  },
  {
   "cell_type": "markdown",
   "id": "02a1ffc6",
   "metadata": {},
   "source": [
    "# Add CNN Layers"
   ]
  },
  {
   "cell_type": "code",
   "execution_count": 14,
   "id": "0864d8af",
   "metadata": {},
   "outputs": [],
   "source": [
    "model.add(Convolution2D(32,(3,3),input_shape=(128,128,3),activation='relu'))"
   ]
  },
  {
   "cell_type": "code",
   "execution_count": 15,
   "id": "6d07a42f",
   "metadata": {},
   "outputs": [
    {
     "data": {
      "text/plain": [
       "{'Apple___Black_rot': 0,\n",
       " 'Apple___healthy': 1,\n",
       " 'Corn_(maize)___Northern_Leaf_Blight': 2,\n",
       " 'Corn_(maize)___healthy': 3,\n",
       " 'Peach___Bacterial_spot': 4,\n",
       " 'Peach___healthy': 5}"
      ]
     },
     "execution_count": 15,
     "metadata": {},
     "output_type": "execute_result"
    }
   ],
   "source": [
    "x_train.class_indices"
   ]
  },
  {
   "cell_type": "markdown",
   "id": "397903f8",
   "metadata": {},
   "source": [
    "# Add Pooling layer"
   ]
  },
  {
   "cell_type": "code",
   "execution_count": 16,
   "id": "d3ab0f1b",
   "metadata": {},
   "outputs": [],
   "source": [
    "model.add(MaxPool2D(pool_size=(2,2)))"
   ]
  },
  {
   "cell_type": "markdown",
   "id": "157a00a2",
   "metadata": {},
   "source": [
    "# Add Flatten layer"
   ]
  },
  {
   "cell_type": "code",
   "execution_count": 17,
   "id": "b9b64ad1",
   "metadata": {},
   "outputs": [],
   "source": [
    "model.add(Flatten())"
   ]
  },
  {
   "cell_type": "markdown",
   "id": "0beead3c",
   "metadata": {},
   "source": [
    "# Add Dense Layer"
   ]
  },
  {
   "cell_type": "code",
   "execution_count": 18,
   "id": "cdd0e005",
   "metadata": {},
   "outputs": [],
   "source": [
    "model.add(Dense(40, kernel_initializer='uniform',activation='relu'))\n",
    "model.add(Dense(20, kernel_initializer='random_uniform',activation='relu'))"
   ]
  },
  {
   "cell_type": "markdown",
   "id": "669a4337",
   "metadata": {},
   "source": [
    "# Add Output Layer"
   ]
  },
  {
   "cell_type": "code",
   "execution_count": 19,
   "id": "939046af",
   "metadata": {},
   "outputs": [],
   "source": [
    "model.add(Dense(6,activation='softmax', kernel_initializer='random_uniform'))"
   ]
  },
  {
   "cell_type": "markdown",
   "id": "aa54b817",
   "metadata": {},
   "source": [
    "# Compile the model"
   ]
  },
  {
   "cell_type": "code",
   "execution_count": 20,
   "id": "582efd88",
   "metadata": {},
   "outputs": [],
   "source": [
    "model.compile(loss='categorical_crossentropy',optimizer='adam',metrics=['accuracy'])"
   ]
  },
  {
   "cell_type": "code",
   "execution_count": 21,
   "id": "83affd3b",
   "metadata": {},
   "outputs": [
    {
     "data": {
      "text/plain": [
       "169"
      ]
     },
     "execution_count": 21,
     "metadata": {},
     "output_type": "execute_result"
    }
   ],
   "source": [
    "len(x_train)"
   ]
  },
  {
   "cell_type": "code",
   "execution_count": 22,
   "id": "c26ad32d",
   "metadata": {},
   "outputs": [
    {
     "data": {
      "text/plain": [
       "168.25"
      ]
     },
     "execution_count": 22,
     "metadata": {},
     "output_type": "execute_result"
    }
   ],
   "source": [
    "5384/32"
   ]
  },
  {
   "cell_type": "markdown",
   "id": "84f81316",
   "metadata": {},
   "source": [
    "# Fit the Model"
   ]
  },
  {
   "cell_type": "code",
   "execution_count": 23,
   "id": "5e03b854",
   "metadata": {},
   "outputs": [
    {
     "name": "stderr",
     "output_type": "stream",
     "text": [
      "C:\\Users\\Dharun Aditya K\\AppData\\Local\\Temp\\ipykernel_15240\\2881909211.py:1: UserWarning: `Model.fit_generator` is deprecated and will be removed in a future version. Please use `Model.fit`, which supports generators.\n",
      "  model.fit_generator(x_train,steps_per_epoch=168,validation_data=x_test,validation_steps=52,epochs=3)\n"
     ]
    },
    {
     "name": "stdout",
     "output_type": "stream",
     "text": [
      "Epoch 1/3\n",
      "168/168 [==============================] - 71s 419ms/step - loss: 0.9660 - accuracy: 0.6405 - val_loss: 113.3519 - val_accuracy: 0.6544\n",
      "Epoch 2/3\n",
      "168/168 [==============================] - 67s 401ms/step - loss: 0.4854 - accuracy: 0.8272 - val_loss: 88.2348 - val_accuracy: 0.7734\n",
      "Epoch 3/3\n",
      "168/168 [==============================] - 67s 400ms/step - loss: 0.3486 - accuracy: 0.8763 - val_loss: 162.9083 - val_accuracy: 0.7554\n"
     ]
    },
    {
     "data": {
      "text/plain": [
       "<keras.callbacks.History at 0x22e94dfd610>"
      ]
     },
     "execution_count": 23,
     "metadata": {},
     "output_type": "execute_result"
    }
   ],
   "source": [
    "model.fit_generator(x_train,steps_per_epoch=168,validation_data=x_test,validation_steps=52,epochs=3)"
   ]
  },
  {
   "cell_type": "markdown",
   "id": "4fafe986",
   "metadata": {},
   "source": [
    "# Save the Model"
   ]
  },
  {
   "cell_type": "code",
   "execution_count": 24,
   "id": "4f1a0fd0",
   "metadata": {},
   "outputs": [],
   "source": [
    "model.save(\"fruit.h5\")"
   ]
  },
  {
   "cell_type": "code",
   "execution_count": 25,
   "id": "c6fd6021",
   "metadata": {},
   "outputs": [
    {
     "name": "stdout",
     "output_type": "stream",
     "text": [
      " Volume in drive C is OS\n",
      " Volume Serial Number is 3285-82CC\n",
      "\n",
      " Directory of C:\\Users\\Dharun Aditya K\\Desktop\\IBM\\Naveen\\Jupiter\n",
      "\n",
      "12-11-2022  13:38    <DIR>          .\n",
      "12-11-2022  13:38    <DIR>          ..\n",
      "12-11-2022  12:51    <DIR>          .ipynb_checkpoints\n",
      "06-04-2022  14:27    <DIR>          Dataset Plant Disease\n",
      "12-11-2022  13:40        61,030,792 fruit.h5\n",
      "12-11-2022  13:38            27,288 Fruit-Training.ipynb\n",
      "12-11-2022  12:46            24,215 Vegetable-Training.ipynb\n",
      "               3 File(s)     61,082,295 bytes\n",
      "               4 Dir(s)  102,828,883,968 bytes free\n"
     ]
    }
   ],
   "source": [
    "ls\n"
   ]
  },
  {
   "cell_type": "markdown",
   "id": "f4079dfa",
   "metadata": {},
   "source": [
    "# Test the Model"
   ]
  },
  {
   "cell_type": "code",
   "execution_count": 26,
   "id": "7059f0cd",
   "metadata": {},
   "outputs": [],
   "source": [
    "from keras.preprocessing import image\n",
    "from tensorflow.keras.preprocessing.image import img_to_array\n",
    "from tensorflow.keras.models import load_model\n",
    "import numpy as np\n"
   ]
  },
  {
   "cell_type": "code",
   "execution_count": 27,
   "id": "53b9c26c",
   "metadata": {},
   "outputs": [],
   "source": [
    "model = load_model(\"fruit.h5\")"
   ]
  },
  {
   "cell_type": "markdown",
   "id": "61088099",
   "metadata": {},
   "source": [
    "# Test Apple_Healthy Class images"
   ]
  },
  {
   "cell_type": "code",
   "execution_count": 59,
   "id": "08501890",
   "metadata": {},
   "outputs": [],
   "source": [
    "import keras.utils as image"
   ]
  },
  {
   "cell_type": "code",
   "execution_count": 60,
   "id": "58b68881",
   "metadata": {},
   "outputs": [],
   "source": [
    "img = image.load_img(r'C:/Users/RAJU/OneDrive/Desktop/Sathiya/IBM/Dataset Plant Disease/fruit-dataset/fruit-dataset/test/Apple___healthy/00fca0da-2db3-481b-b98a-9b67bb7b105c___RS_HL 7708.JPG',target_size=(128,128))"
   ]
  },
  {
   "cell_type": "code",
   "execution_count": 61,
   "id": "bf697704",
   "metadata": {},
   "outputs": [],
   "source": [
    "x=image.img_to_array(img)\n",
    "x=np.expand_dims(x,axis=0)"
   ]
  },
  {
   "cell_type": "code",
   "execution_count": 75,
   "id": "2349447d",
   "metadata": {},
   "outputs": [
    {
     "name": "stdout",
     "output_type": "stream",
     "text": [
      "1/1 [==============================] - 0s 24ms/step\n"
     ]
    }
   ],
   "source": [
    "pred = np.argmax(model.predict(x),axis=1)"
   ]
  },
  {
   "cell_type": "code",
   "execution_count": 76,
   "id": "aa7994af",
   "metadata": {},
   "outputs": [
    {
     "data": {
      "text/plain": [
       "array([1], dtype=int64)"
      ]
     },
     "execution_count": 76,
     "metadata": {},
     "output_type": "execute_result"
    }
   ],
   "source": [
    "pred"
   ]
  },
  {
   "cell_type": "code",
   "execution_count": 79,
   "id": "5f8f2cde",
   "metadata": {},
   "outputs": [],
   "source": [
    "index =['Apple___Black_rot','Apple___healthy','Corn_(maize)___Northern_Leaf_Blight','Corn_(maize)___healthy','Peach___Bacterial_spot','Peach___healthy']"
   ]
  },
  {
   "cell_type": "code",
   "execution_count": 80,
   "id": "9203b2e7",
   "metadata": {},
   "outputs": [
    {
     "name": "stdout",
     "output_type": "stream",
     "text": [
      "the given image belogs to= Apple___healthy\n"
     ]
    }
   ],
   "source": [
    "print('the given image belogs to=',index[pred[0]])"
   ]
  },
  {
   "cell_type": "markdown",
   "id": "e0fae6c1",
   "metadata": {},
   "source": [
    "# Test Apple Black Rot class images"
   ]
  },
  {
   "cell_type": "code",
   "execution_count": 82,
   "id": "57a4a266",
   "metadata": {},
   "outputs": [],
   "source": [
    "img = image.load_img(r'C:/Users/RAJU/OneDrive/Desktop/Sathiya/IBM/Dataset Plant Disease/fruit-dataset/fruit-dataset/test/Apple___Black_rot/0f3d45f4-e121-42cd-a5b6-be2f866a0574___JR_FrgE.S 2870.JPG',target_size=(128,128))"
   ]
  },
  {
   "cell_type": "code",
   "execution_count": 83,
   "id": "527c06e9",
   "metadata": {},
   "outputs": [
    {
     "name": "stdout",
     "output_type": "stream",
     "text": [
      "1/1 [==============================] - 0s 24ms/step\n",
      "the given image belogs to= Apple___Black_rot\n"
     ]
    }
   ],
   "source": [
    "x=image.img_to_array(img)\n",
    "x=np.expand_dims(x,axis=0)\n",
    "pred = np.argmax(model.predict(x),axis=1)\n",
    "print('the given image belogs to=',index[pred[0]])"
   ]
  },
  {
   "cell_type": "markdown",
   "id": "7638deb1",
   "metadata": {},
   "source": [
    "# Test Corn Northern leaf Blight class images"
   ]
  },
  {
   "cell_type": "code",
   "execution_count": 84,
   "id": "44e49ce6",
   "metadata": {},
   "outputs": [],
   "source": [
    "img = image.load_img(r'C:/Users/RAJU/OneDrive/Desktop/Sathiya/IBM/Dataset Plant Disease/fruit-dataset/fruit-dataset/test/Corn_(maize)___Northern_Leaf_Blight/00a14441-7a62-4034-bc40-b196aeab2785___RS_NLB 3932.JPG',target_size=(128,128))"
   ]
  },
  {
   "cell_type": "code",
   "execution_count": 85,
   "id": "b2ad6f94",
   "metadata": {},
   "outputs": [
    {
     "name": "stdout",
     "output_type": "stream",
     "text": [
      "1/1 [==============================] - 0s 24ms/step\n",
      "the given image belogs to= Corn_(maize)___Northern_Leaf_Blight\n"
     ]
    }
   ],
   "source": [
    "x=image.img_to_array(img)\n",
    "x=np.expand_dims(x,axis=0)\n",
    "pred = np.argmax(model.predict(x),axis=1)\n",
    "print('the given image belogs to=',index[pred[0]])"
   ]
  },
  {
   "cell_type": "markdown",
   "id": "b702120d",
   "metadata": {},
   "source": [
    "# Test Corn Healthy class images"
   ]
  },
  {
   "cell_type": "code",
   "execution_count": 86,
   "id": "1bbd2e0d",
   "metadata": {},
   "outputs": [],
   "source": [
    "img = image.load_img(r'C:/Users/RAJU/OneDrive/Desktop/Sathiya/IBM/Dataset Plant Disease/fruit-dataset/fruit-dataset/test/Corn_(maize)___healthy/0a68ef5a-027c-41ae-b227-159dae77d3dd___R.S_HL 7969 copy.jpg',target_size=(128,128))"
   ]
  },
  {
   "cell_type": "code",
   "execution_count": 87,
   "id": "1de96e21",
   "metadata": {},
   "outputs": [
    {
     "name": "stdout",
     "output_type": "stream",
     "text": [
      "1/1 [==============================] - 0s 24ms/step\n",
      "the given image belogs to= Corn_(maize)___healthy\n"
     ]
    }
   ],
   "source": [
    "x=image.img_to_array(img)\n",
    "x=np.expand_dims(x,axis=0)\n",
    "pred = np.argmax(model.predict(x),axis=1)\n",
    "print('the given image belogs to=',index[pred[0]])"
   ]
  },
  {
   "cell_type": "markdown",
   "id": "6d9a70f3",
   "metadata": {},
   "source": [
    "# Test Peach Bacterial spot class images"
   ]
  },
  {
   "cell_type": "code",
   "execution_count": 88,
   "id": "7b1c3482",
   "metadata": {},
   "outputs": [],
   "source": [
    "img = image.load_img(r'C:/Users/RAJU/OneDrive/Desktop/Sathiya/IBM/Dataset Plant Disease/fruit-dataset/fruit-dataset/test/Peach___Bacterial_spot/00ddc106-692e-4c67-b2e8-569c924caf49___Rutg._Bact.S 1228.JPG',target_size=(128,128))"
   ]
  },
  {
   "cell_type": "code",
   "execution_count": 89,
   "id": "1ab010e0",
   "metadata": {},
   "outputs": [
    {
     "name": "stdout",
     "output_type": "stream",
     "text": [
      "1/1 [==============================] - 0s 24ms/step\n",
      "the given image belogs to= Peach___Bacterial_spot\n"
     ]
    }
   ],
   "source": [
    "x=image.img_to_array(img)\n",
    "x=np.expand_dims(x,axis=0)\n",
    "pred = np.argmax(model.predict(x),axis=1)\n",
    "print('the given image belogs to=',index[pred[0]])"
   ]
  },
  {
   "cell_type": "markdown",
   "id": "9dc67628",
   "metadata": {},
   "source": [
    "# Test Peach Healthy class images"
   ]
  },
  {
   "cell_type": "code",
   "execution_count": 90,
   "id": "0461e6c9",
   "metadata": {},
   "outputs": [],
   "source": [
    "img = image.load_img(r'C:/Users/RAJU/OneDrive/Desktop/Sathiya/IBM/Dataset Plant Disease/fruit-dataset/fruit-dataset/test/Peach___healthy/1a07ce54-f4fd-41cf-b088-144f6bf71859___Rutg._HL 3543.JPG',target_size=(128,128))"
   ]
  },
  {
   "cell_type": "code",
   "execution_count": 91,
   "id": "d9ff6e18",
   "metadata": {},
   "outputs": [
    {
     "name": "stdout",
     "output_type": "stream",
     "text": [
      "1/1 [==============================] - 0s 31ms/step\n",
      "the given image belogs to= Apple___healthy\n"
     ]
    }
   ],
   "source": [
    "x=image.img_to_array(img)\n",
    "x=np.expand_dims(x,axis=0)\n",
    "pred = np.argmax(model.predict(x),axis=1)\n",
    "print('the given image belogs to=',index[pred[0]])"
   ]
  }
 ],
 "metadata": {
  "kernelspec": {
   "display_name": "Python 3 (ipykernel)",
   "language": "python",
   "name": "python3"
  },
  "language_info": {
   "codemirror_mode": {
    "name": "ipython",
    "version": 3
   },
   "file_extension": ".py",
   "mimetype": "text/x-python",
   "name": "python",
   "nbconvert_exporter": "python",
   "pygments_lexer": "ipython3",
   "version": "3.9.12"
  }
 },
 "nbformat": 4,
 "nbformat_minor": 5
}
