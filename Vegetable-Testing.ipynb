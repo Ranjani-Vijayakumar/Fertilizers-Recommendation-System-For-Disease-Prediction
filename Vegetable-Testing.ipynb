{
 "cells": [
  {
   "cell_type": "markdown",
   "id": "60f6f9a9",
   "metadata": {},
   "source": [
    "# Preprocessing"
   ]
  },
  {
   "cell_type": "code",
   "execution_count": 3,
   "id": "6f8ef720",
   "metadata": {},
   "outputs": [],
   "source": [
    "from keras.preprocessing.image import ImageDataGenerator\n",
    "train_datagen = ImageDataGenerator(rescale=1./255,shear_range=0.2,zoom_range=0.2,horizontal_flip=True)\n",
    "test_datagen = ImageDataGenerator(rescale=1)"
   ]
  },
  {
   "cell_type": "code",
   "execution_count": 4,
   "id": "929f900d",
   "metadata": {},
   "outputs": [
    {
     "name": "stdout",
     "output_type": "stream",
     "text": [
      "Found 11386 images belonging to 9 classes.\n"
     ]
    }
   ],
   "source": [
    "x_train = train_datagen.flow_from_directory(r'C:/Users/RAJU/OneDrive/Desktop/Sathiya/IBM/Dataset Plant Disease/veg-dataset/veg-dataset/train_set',target_size=(128,128),\n",
    "                                            batch_size=16,class_mode='categorical')\n"
   ]
  },
  {
   "cell_type": "code",
   "execution_count": 5,
   "id": "8cdd74c2",
   "metadata": {},
   "outputs": [
    {
     "name": "stdout",
     "output_type": "stream",
     "text": [
      "Found 3416 images belonging to 9 classes.\n"
     ]
    }
   ],
   "source": [
    "x_test=test_datagen.flow_from_directory(r'C:/Users/RAJU/OneDrive/Desktop/Sathiya/IBM/Dataset Plant Disease/veg-dataset/veg-dataset/test_set',target_size=(128,128),\n",
    "                                          batch_size=16,class_mode='categorical')"
   ]
  },
  {
   "cell_type": "markdown",
   "id": "aacf0249",
   "metadata": {},
   "source": [
    "# Import the models"
   ]
  },
  {
   "cell_type": "code",
   "execution_count": 4,
   "id": "3c4043b4",
   "metadata": {},
   "outputs": [],
   "source": [
    "from tensorflow.keras.models import Sequential\n",
    "from tensorflow.keras.layers import Dense,Convolution2D,MaxPool2D,Flatten"
   ]
  },
  {
   "cell_type": "markdown",
   "id": "764a5459",
   "metadata": {},
   "source": [
    "# Initializing the models"
   ]
  },
  {
   "cell_type": "code",
   "execution_count": 5,
   "id": "194155f1",
   "metadata": {},
   "outputs": [],
   "source": [
    "model=Sequential()"
   ]
  },
  {
   "cell_type": "markdown",
   "id": "34b78176",
   "metadata": {},
   "source": [
    "# Add CNN Layers"
   ]
  },
  {
   "cell_type": "code",
   "execution_count": 6,
   "id": "0864d8af",
   "metadata": {},
   "outputs": [],
   "source": [
    "model.add(Convolution2D(32,(3,3),input_shape=(128,128,3),activation='relu'))"
   ]
  },
  {
   "cell_type": "code",
   "execution_count": 7,
   "id": "6d07a42f",
   "metadata": {},
   "outputs": [
    {
     "data": {
      "text/plain": [
       "{'Pepper,_bell___Bacterial_spot': 0,\n",
       " 'Pepper,_bell___healthy': 1,\n",
       " 'Potato___Early_blight': 2,\n",
       " 'Potato___Late_blight': 3,\n",
       " 'Potato___healthy': 4,\n",
       " 'Tomato___Bacterial_spot': 5,\n",
       " 'Tomato___Late_blight': 6,\n",
       " 'Tomato___Leaf_Mold': 7,\n",
       " 'Tomato___Septoria_leaf_spot': 8}"
      ]
     },
     "execution_count": 7,
     "metadata": {},
     "output_type": "execute_result"
    }
   ],
   "source": [
    "x_train.class_indices"
   ]
  },
  {
   "cell_type": "markdown",
   "id": "07af6d7e",
   "metadata": {},
   "source": [
    "# Add Pooling layer"
   ]
  },
  {
   "cell_type": "code",
   "execution_count": 8,
   "id": "d3ab0f1b",
   "metadata": {},
   "outputs": [],
   "source": [
    "model.add(MaxPool2D(pool_size=(2,2)))"
   ]
  },
  {
   "cell_type": "markdown",
   "id": "b4517580",
   "metadata": {},
   "source": [
    "# Add Flatten layer"
   ]
  },
  {
   "cell_type": "code",
   "execution_count": 9,
   "id": "b9b64ad1",
   "metadata": {},
   "outputs": [],
   "source": [
    "model.add(Flatten())"
   ]
  },
  {
   "cell_type": "markdown",
   "id": "d850831d",
   "metadata": {},
   "source": [
    "# Add Dense Layer"
   ]
  },
  {
   "cell_type": "code",
   "execution_count": 10,
   "id": "cdd0e005",
   "metadata": {},
   "outputs": [],
   "source": [
    "model.add(Dense(300, kernel_initializer='uniform',activation='relu'))\n",
    "model.add(Dense(150, kernel_initializer='uniform',activation='relu'))\n",
    "model.add(Dense(75, kernel_initializer='uniform',activation='relu'))"
   ]
  },
  {
   "cell_type": "markdown",
   "id": "3136a773",
   "metadata": {},
   "source": [
    "# Add Output Layer"
   ]
  },
  {
   "cell_type": "code",
   "execution_count": 11,
   "id": "939046af",
   "metadata": {},
   "outputs": [],
   "source": [
    "model.add(Dense(9,activation='softmax', kernel_initializer='uniform'))"
   ]
  },
  {
   "cell_type": "markdown",
   "id": "90680a56",
   "metadata": {},
   "source": [
    "# Compile the model"
   ]
  },
  {
   "cell_type": "code",
   "execution_count": 12,
   "id": "582efd88",
   "metadata": {},
   "outputs": [],
   "source": [
    "model.compile(loss='categorical_crossentropy',optimizer='adam',metrics=['accuracy'])"
   ]
  },
  {
   "cell_type": "code",
   "execution_count": 13,
   "id": "83affd3b",
   "metadata": {},
   "outputs": [
    {
     "data": {
      "text/plain": [
       "712"
      ]
     },
     "execution_count": 13,
     "metadata": {},
     "output_type": "execute_result"
    }
   ],
   "source": [
    "len(x_train)"
   ]
  },
  {
   "cell_type": "code",
   "execution_count": 14,
   "id": "c26ad32d",
   "metadata": {},
   "outputs": [
    {
     "data": {
      "text/plain": [
       "711.625"
      ]
     },
     "execution_count": 14,
     "metadata": {},
     "output_type": "execute_result"
    }
   ],
   "source": [
    "11386/16"
   ]
  },
  {
   "cell_type": "markdown",
   "id": "df4ba1f9",
   "metadata": {},
   "source": [
    "# Fit the Model"
   ]
  },
  {
   "cell_type": "code",
   "execution_count": 15,
   "id": "5e03b854",
   "metadata": {},
   "outputs": [
    {
     "name": "stderr",
     "output_type": "stream",
     "text": [
      "C:\\Users\\Dharun Aditya K\\AppData\\Local\\Temp\\ipykernel_16244\\2688753545.py:1: UserWarning: `Model.fit_generator` is deprecated and will be removed in a future version. Please use `Model.fit`, which supports generators.\n",
      "  model.fit_generator(x_train,steps_per_epoch=89,validation_data=x_test,validation_steps=27,epochs=20)\n"
     ]
    },
    {
     "name": "stdout",
     "output_type": "stream",
     "text": [
      "Epoch 1/20\n",
      "89/89 [==============================] - 44s 481ms/step - loss: 2.0831 - accuracy: 0.1980 - val_loss: 138.7490 - val_accuracy: 0.1991\n",
      "Epoch 2/20\n",
      "89/89 [==============================] - 43s 486ms/step - loss: 1.8496 - accuracy: 0.2739 - val_loss: 180.6186 - val_accuracy: 0.3449\n",
      "Epoch 3/20\n",
      "89/89 [==============================] - 42s 469ms/step - loss: 1.5456 - accuracy: 0.4302 - val_loss: 290.2107 - val_accuracy: 0.2662\n",
      "Epoch 4/20\n",
      "89/89 [==============================] - 41s 466ms/step - loss: 1.3817 - accuracy: 0.4944 - val_loss: 290.1707 - val_accuracy: 0.3472\n",
      "Epoch 5/20\n",
      "89/89 [==============================] - 42s 471ms/step - loss: 1.1910 - accuracy: 0.5660 - val_loss: 257.0154 - val_accuracy: 0.4282\n",
      "Epoch 6/20\n",
      "89/89 [==============================] - 45s 505ms/step - loss: 1.0316 - accuracy: 0.6159 - val_loss: 330.0196 - val_accuracy: 0.3681\n",
      "Epoch 7/20\n",
      "89/89 [==============================] - 42s 473ms/step - loss: 1.0175 - accuracy: 0.6194 - val_loss: 545.6253 - val_accuracy: 0.2778\n",
      "Epoch 8/20\n",
      "89/89 [==============================] - 42s 473ms/step - loss: 0.9704 - accuracy: 0.6594 - val_loss: 485.7208 - val_accuracy: 0.3472\n",
      "Epoch 9/20\n",
      "89/89 [==============================] - 40s 452ms/step - loss: 0.8795 - accuracy: 0.6812 - val_loss: 622.3622 - val_accuracy: 0.2917\n",
      "Epoch 10/20\n",
      "89/89 [==============================] - 41s 460ms/step - loss: 0.8250 - accuracy: 0.7037 - val_loss: 639.4330 - val_accuracy: 0.3380\n",
      "Epoch 11/20\n",
      "89/89 [==============================] - 40s 451ms/step - loss: 0.8083 - accuracy: 0.6903 - val_loss: 773.7629 - val_accuracy: 0.3125\n",
      "Epoch 12/20\n",
      "89/89 [==============================] - 39s 442ms/step - loss: 0.6908 - accuracy: 0.7521 - val_loss: 787.3583 - val_accuracy: 0.3681\n",
      "Epoch 13/20\n",
      "89/89 [==============================] - 39s 441ms/step - loss: 0.6767 - accuracy: 0.7612 - val_loss: 1117.1803 - val_accuracy: 0.3009\n",
      "Epoch 14/20\n",
      "89/89 [==============================] - 39s 442ms/step - loss: 0.7344 - accuracy: 0.7331 - val_loss: 812.4480 - val_accuracy: 0.3171\n",
      "Epoch 15/20\n",
      "89/89 [==============================] - 41s 461ms/step - loss: 0.6567 - accuracy: 0.7690 - val_loss: 1093.9596 - val_accuracy: 0.3102\n",
      "Epoch 16/20\n",
      "89/89 [==============================] - 42s 469ms/step - loss: 0.6106 - accuracy: 0.7746 - val_loss: 1123.7339 - val_accuracy: 0.2847\n",
      "Epoch 17/20\n",
      "89/89 [==============================] - 39s 443ms/step - loss: 0.5746 - accuracy: 0.7795 - val_loss: 1578.5779 - val_accuracy: 0.3009\n",
      "Epoch 18/20\n",
      "89/89 [==============================] - 40s 454ms/step - loss: 0.5648 - accuracy: 0.7941 - val_loss: 1331.5382 - val_accuracy: 0.3102\n",
      "Epoch 19/20\n",
      "89/89 [==============================] - 40s 451ms/step - loss: 0.5249 - accuracy: 0.8167 - val_loss: 1547.0045 - val_accuracy: 0.2708\n",
      "Epoch 20/20\n",
      "89/89 [==============================] - 41s 454ms/step - loss: 0.5422 - accuracy: 0.8062 - val_loss: 1681.2583 - val_accuracy: 0.2847\n"
     ]
    },
    {
     "data": {
      "text/plain": [
       "<keras.callbacks.History at 0x221de204f10>"
      ]
     },
     "execution_count": 15,
     "metadata": {},
     "output_type": "execute_result"
    }
   ],
   "source": [
    "model.fit_generator(x_train,steps_per_epoch=89,validation_data=x_test,validation_steps=27,epochs=20)"
   ]
  },
  {
   "cell_type": "markdown",
   "id": "62ae729d",
   "metadata": {},
   "source": [
    "# Save the Model"
   ]
  },
  {
   "cell_type": "code",
   "execution_count": 16,
   "id": "4f1a0fd0",
   "metadata": {},
   "outputs": [],
   "source": [
    "model.save(\"vegetable.h5\")"
   ]
  },
  {
   "cell_type": "code",
   "execution_count": 17,
   "id": "44df5fdf",
   "metadata": {},
   "outputs": [
    {
     "name": "stdout",
     "output_type": "stream",
     "text": [
      " Volume in drive C is OS\n",
      " Volume Serial Number is 3285-82CC\n",
      "\n",
      " Directory of C:\\Users\\Dharun Aditya K\\Desktop\\IBM\\Naveen\\Jupiter\n",
      "\n",
      "12-11-2022  14:12    <DIR>          .\n",
      "12-11-2022  14:12    <DIR>          ..\n",
      "12-11-2022  13:59    <DIR>          .ipynb_checkpoints\n",
      "06-04-2022  14:27    <DIR>          Dataset Plant Disease\n",
      "12-11-2022  13:40        61,030,792 fruit.h5\n",
      "12-11-2022  13:56            16,606 Fruit-Training.ipynb\n",
      "12-11-2022  13:56            16,606 Fruit-Training-Copy1.ipynb\n",
      "12-11-2022  14:12       457,981,032 vegetable.h5\n",
      "12-11-2022  14:11            22,614 Vegetable-Training.ipynb\n",
      "               5 File(s)    519,067,650 bytes\n",
      "               4 Dir(s)  104,606,978,048 bytes free\n"
     ]
    }
   ],
   "source": [
    "ls\n"
   ]
  },
  {
   "cell_type": "code",
   "execution_count": 18,
   "id": "9528c90e",
   "metadata": {},
   "outputs": [
    {
     "name": "stdout",
     "output_type": "stream",
     "text": [
      "Model: \"sequential\"\n",
      "_________________________________________________________________\n",
      " Layer (type)                Output Shape              Param #   \n",
      "=================================================================\n",
      " conv2d (Conv2D)             (None, 126, 126, 32)      896       \n",
      "                                                                 \n",
      " max_pooling2d (MaxPooling2D  (None, 63, 63, 32)       0         \n",
      " )                                                               \n",
      "                                                                 \n",
      " flatten (Flatten)           (None, 127008)            0         \n",
      "                                                                 \n",
      " dense (Dense)               (None, 300)               38102700  \n",
      "                                                                 \n",
      " dense_1 (Dense)             (None, 150)               45150     \n",
      "                                                                 \n",
      " dense_2 (Dense)             (None, 75)                11325     \n",
      "                                                                 \n",
      " dense_3 (Dense)             (None, 9)                 684       \n",
      "                                                                 \n",
      "=================================================================\n",
      "Total params: 38,160,755\n",
      "Trainable params: 38,160,755\n",
      "Non-trainable params: 0\n",
      "_________________________________________________________________\n"
     ]
    }
   ],
   "source": [
    "model.summary()"
   ]
  },
  {
   "cell_type": "markdown",
   "id": "7c596be3",
   "metadata": {},
   "source": [
    "# Test the Model"
   ]
  },
  {
   "cell_type": "code",
   "execution_count": 19,
   "id": "4d4c6c20",
   "metadata": {},
   "outputs": [],
   "source": [
    "from keras.preprocessing import image\n",
    "from tensorflow.keras.preprocessing.image import img_to_array\n",
    "from tensorflow.keras.models import load_model\n",
    "import numpy as np"
   ]
  },
  {
   "cell_type": "code",
   "execution_count": 20,
   "id": "9e502298",
   "metadata": {},
   "outputs": [],
   "source": [
    "model = load_model(\"vegetable.h5\")"
   ]
  },
  {
   "cell_type": "code",
   "execution_count": 21,
   "id": "e12c0196",
   "metadata": {},
   "outputs": [],
   "source": [
    "index=['Pepper,_bell___Bacterial_spot','Pepper,_bell___healthy','Potato___Early_blight','Potato___Late_blight','Potato___healthy','Tomato___Bacterial_spot','Tomato___Late_blight','Tomato___Leaf_Mold','Tomato___Septoria_leaf_spot']"
   ]
  },
  {
   "cell_type": "markdown",
   "id": "a07a1c0a",
   "metadata": {},
   "source": [
    "# Test  Pepper Bell Bacterial Spot    Class Images"
   ]
  },
  {
   "cell_type": "code",
   "execution_count": 23,
   "id": "801cfb8e",
   "metadata": {},
   "outputs": [],
   "source": [
    "import keras.utils as image"
   ]
  },
  {
   "cell_type": "code",
   "execution_count": 24,
   "id": "e818fd66",
   "metadata": {},
   "outputs": [],
   "source": [
    "img = image.load_img(r'C:/Users/RAJU/OneDrive/Desktop/Sathiya/IBM/Dataset Plant Disease/veg-dataset/veg-dataset/test_set/Pepper,_bell___Bacterial_spot/ad921dec-e88f-41d8-9455-0880c69063fc___NREC_B.Spot 9216.JPG',target_size=(128,128))"
   ]
  },
  {
   "cell_type": "code",
   "execution_count": 26,
   "id": "84210f4b",
   "metadata": {},
   "outputs": [
    {
     "name": "stdout",
     "output_type": "stream",
     "text": [
      "1/1 [==============================] - 0s 250ms/step\n",
      "the given image belogs to= Pepper,_bell___healthy\n"
     ]
    }
   ],
   "source": [
    "x=image.img_to_array(img)\n",
    "x=np.expand_dims(x,axis=0)\n",
    "pred = np.argmax(model.predict(x),axis=1)\n",
    "print('the given image belogs to=',index[pred[0]])"
   ]
  },
  {
   "cell_type": "markdown",
   "id": "362d2772",
   "metadata": {},
   "source": [
    "# Test  Pepper,_bell___healthy    Class Images"
   ]
  },
  {
   "cell_type": "code",
   "execution_count": 27,
   "id": "7b557a10",
   "metadata": {},
   "outputs": [],
   "source": [
    "img = image.load_img(r'C:/Users/RAJU/OneDrive/Desktop/Sathiya/IBM/Dataset Plant Disease/veg-dataset/veg-dataset/test_set/Pepper,_bell___healthy/b45d62a2-3de1-411b-8f88-ab52195b6dda___JR_HL 7639.JPG',target_size=(128,128))"
   ]
  },
  {
   "cell_type": "code",
   "execution_count": 28,
   "id": "b272b833",
   "metadata": {},
   "outputs": [
    {
     "name": "stdout",
     "output_type": "stream",
     "text": [
      "1/1 [==============================] - 0s 36ms/step\n",
      "the given image belogs to= Pepper,_bell___healthy\n"
     ]
    }
   ],
   "source": [
    "x=image.img_to_array(img)\n",
    "x=np.expand_dims(x,axis=0)\n",
    "pred = np.argmax(model.predict(x),axis=1)\n",
    "print('the given image belogs to=',index[pred[0]])"
   ]
  },
  {
   "cell_type": "markdown",
   "id": "ba27d47d",
   "metadata": {},
   "source": [
    "# Test  Potato___Early_blight    Class Images"
   ]
  },
  {
   "cell_type": "code",
   "execution_count": 29,
   "id": "a436a150",
   "metadata": {},
   "outputs": [],
   "source": [
    "img = image.load_img(r'C:/Users/RAJU/OneDrive/Desktop/Sathiya/IBM/Dataset Plant Disease/veg-dataset/veg-dataset/test_set/Potato___Early_blight/b6220993-c51f-48fa-bee9-fb5cb89cc0c4___RS_Early.B 7467.JPG',target_size=(128,128))"
   ]
  },
  {
   "cell_type": "code",
   "execution_count": 30,
   "id": "b5c2c2c1",
   "metadata": {},
   "outputs": [
    {
     "name": "stdout",
     "output_type": "stream",
     "text": [
      "1/1 [==============================] - 0s 39ms/step\n",
      "the given image belogs to= Potato___Early_blight\n"
     ]
    }
   ],
   "source": [
    "x=image.img_to_array(img)\n",
    "x=np.expand_dims(x,axis=0)\n",
    "pred = np.argmax(model.predict(x),axis=1)\n",
    "print('the given image belogs to=',index[pred[0]])"
   ]
  },
  {
   "cell_type": "markdown",
   "id": "0570cd26",
   "metadata": {},
   "source": [
    "# Test  Potato___Late_blight    Class Images"
   ]
  },
  {
   "cell_type": "code",
   "execution_count": 31,
   "id": "db4e9fe0",
   "metadata": {},
   "outputs": [],
   "source": [
    "img = image.load_img(r'C:/Users/RAJU/OneDrive/Desktop/Sathiya/IBM/Dataset Plant Disease/veg-dataset/veg-dataset/test_set/Potato___Late_blight/d20fef22-7016-4115-9930-a66b32c718c6___RS_LB 4417.JPG',target_size=(128,128))"
   ]
  },
  {
   "cell_type": "code",
   "execution_count": 32,
   "id": "b2af70db",
   "metadata": {},
   "outputs": [
    {
     "name": "stdout",
     "output_type": "stream",
     "text": [
      "1/1 [==============================] - 0s 39ms/step\n",
      "the given image belogs to= Tomato___Septoria_leaf_spot\n"
     ]
    }
   ],
   "source": [
    "x=image.img_to_array(img)\n",
    "x=np.expand_dims(x,axis=0)\n",
    "pred = np.argmax(model.predict(x),axis=1)\n",
    "print('the given image belogs to=',index[pred[0]])"
   ]
  },
  {
   "cell_type": "markdown",
   "id": "65529e03",
   "metadata": {},
   "source": [
    "# Test Potato___healthy Class Images"
   ]
  },
  {
   "cell_type": "code",
   "execution_count": 33,
   "id": "ac7f3b9f",
   "metadata": {},
   "outputs": [],
   "source": [
    "img = image.load_img(r'C:/Users/RAJU/OneDrive/Desktop/Sathiya/IBM/Dataset Plant Disease/veg-dataset/veg-dataset/test_set/Potato___healthy/ff700844-68ad-4e99-8427-58a39c07f817___RS_HL 1860.JPG',target_size=(128,128))"
   ]
  },
  {
   "cell_type": "code",
   "execution_count": 34,
   "id": "05bf3ed6",
   "metadata": {},
   "outputs": [
    {
     "name": "stdout",
     "output_type": "stream",
     "text": [
      "1/1 [==============================] - 0s 37ms/step\n",
      "the given image belogs to= Pepper,_bell___healthy\n"
     ]
    }
   ],
   "source": [
    "x=image.img_to_array(img)\n",
    "x=np.expand_dims(x,axis=0)\n",
    "pred = np.argmax(model.predict(x),axis=1)\n",
    "print('the given image belogs to=',index[pred[0]])"
   ]
  },
  {
   "cell_type": "markdown",
   "id": "f30226f2",
   "metadata": {},
   "source": [
    "# Test   Tomato___Bacterial_spot   Class Images"
   ]
  },
  {
   "cell_type": "code",
   "execution_count": 35,
   "id": "8046bb47",
   "metadata": {},
   "outputs": [],
   "source": [
    "img = image.load_img(r'C:/Users/RAJU/OneDrive/Desktop/Sathiya/IBM/Dataset Plant Disease/veg-dataset/veg-dataset/test_set/Tomato___Bacterial_spot/b433dcf3-c57d-4f5e-9116-5aaeecbaef01___GCREC_Bact.Sp 3715.JPG',target_size=(128,128))"
   ]
  },
  {
   "cell_type": "code",
   "execution_count": 36,
   "id": "00fbbe1b",
   "metadata": {},
   "outputs": [
    {
     "name": "stdout",
     "output_type": "stream",
     "text": [
      "1/1 [==============================] - 0s 41ms/step\n",
      "the given image belogs to= Tomato___Septoria_leaf_spot\n"
     ]
    }
   ],
   "source": [
    "x=image.img_to_array(img)\n",
    "x=np.expand_dims(x,axis=0)\n",
    "pred = np.argmax(model.predict(x),axis=1)\n",
    "print('the given image belogs to=',index[pred[0]])"
   ]
  },
  {
   "cell_type": "markdown",
   "id": "8f3f26f4",
   "metadata": {},
   "source": [
    "# Test   Tomato___Late_blight   Class Images"
   ]
  },
  {
   "cell_type": "code",
   "execution_count": 37,
   "id": "08f27840",
   "metadata": {},
   "outputs": [],
   "source": [
    "img = image.load_img(r'C:/Users/RAJU/OneDrive/Desktop/Sathiya/IBM/Dataset Plant Disease/veg-dataset/veg-dataset/test_set/Tomato___Late_blight/b19055d9-6a5d-4b73-90a5-3b3685ac344a___GHLB2 Leaf 8729.JPG',target_size=(128,128))"
   ]
  },
  {
   "cell_type": "code",
   "execution_count": 38,
   "id": "bb7f8a02",
   "metadata": {},
   "outputs": [
    {
     "name": "stdout",
     "output_type": "stream",
     "text": [
      "1/1 [==============================] - 0s 38ms/step\n",
      "the given image belogs to= Tomato___Septoria_leaf_spot\n"
     ]
    }
   ],
   "source": [
    "x=image.img_to_array(img)\n",
    "x=np.expand_dims(x,axis=0)\n",
    "pred = np.argmax(model.predict(x),axis=1)\n",
    "print('the given image belogs to=',index[pred[0]])"
   ]
  },
  {
   "cell_type": "markdown",
   "id": "182c4ce1",
   "metadata": {},
   "source": [
    "# Test   Tomato___Leaf_Mold   Class Images"
   ]
  },
  {
   "cell_type": "code",
   "execution_count": 39,
   "id": "7691e31d",
   "metadata": {},
   "outputs": [],
   "source": [
    "img = image.load_img(r'C:/Users/RAJU/OneDrive/Desktop/Sathiya/IBM/Dataset Plant Disease/veg-dataset/veg-dataset/test_set/Tomato___Leaf_Mold/d8f27502-b864-4da3-9dd5-b7eccf2e8cbc___Crnl_L.Mold 6708.JPG',target_size=(128,128))"
   ]
  },
  {
   "cell_type": "code",
   "execution_count": 40,
   "id": "85326ce0",
   "metadata": {},
   "outputs": [
    {
     "name": "stdout",
     "output_type": "stream",
     "text": [
      "1/1 [==============================] - 0s 40ms/step\n",
      "the given image belogs to= Tomato___Septoria_leaf_spot\n"
     ]
    }
   ],
   "source": [
    "x=image.img_to_array(img)\n",
    "x=np.expand_dims(x,axis=0)\n",
    "pred = np.argmax(model.predict(x),axis=1)\n",
    "print('the given image belogs to=',index[pred[0]])"
   ]
  },
  {
   "cell_type": "markdown",
   "id": "bf7d24dc",
   "metadata": {},
   "source": [
    "# Test  Tomato___Septoria_leaf_spot  Class Images"
   ]
  },
  {
   "cell_type": "code",
   "execution_count": 41,
   "id": "8683220a",
   "metadata": {},
   "outputs": [],
   "source": [
    "img = image.load_img(r'C:/Users/RAJU/OneDrive/Desktop/Sathiya/IBM/Dataset Plant Disease/veg-dataset/veg-dataset/test_set/Tomato___Septoria_leaf_spot/c3233f4f-a6f5-4bfb-a6bf-bd5e5d045f7a___JR_Sept.L.S 2728.JPG',target_size=(128,128))"
   ]
  },
  {
   "cell_type": "code",
   "execution_count": 42,
   "id": "04864f6a",
   "metadata": {},
   "outputs": [
    {
     "name": "stdout",
     "output_type": "stream",
     "text": [
      "1/1 [==============================] - 0s 46ms/step\n",
      "the given image belogs to= Tomato___Septoria_leaf_spot\n"
     ]
    }
   ],
   "source": [
    "x=image.img_to_array(img)\n",
    "x=np.expand_dims(x,axis=0)\n",
    "pred = np.argmax(model.predict(x),axis=1)\n",
    "print('the given image belogs to=',index[pred[0]])"
   ]
  }
 ],
 "metadata": {
  "kernelspec": {
   "display_name": "Python 3 (ipykernel)",
   "language": "python",
   "name": "python3"
  },
  "language_info": {
   "codemirror_mode": {
    "name": "ipython",
    "version": 3
   },
   "file_extension": ".py",
   "mimetype": "text/x-python",
   "name": "python",
   "nbconvert_exporter": "python",
   "pygments_lexer": "ipython3",
   "version": "3.9.12"
  }
 },
 "nbformat": 4,
 "nbformat_minor": 5
}
